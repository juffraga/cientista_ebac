{
  "nbformat": 4,
  "nbformat_minor": 0,
  "metadata": {
    "colab": {
      "provenance": []
    },
    "kernelspec": {
      "name": "python3",
      "display_name": "Python 3"
    },
    "language_info": {
      "name": "python"
    }
  },
  "cells": [
    {
      "cell_type": "code",
      "execution_count": 1,
      "metadata": {
        "colab": {
          "base_uri": "https://localhost:8080/"
        },
        "collapsed": true,
        "id": "e0LVSm89OXlR",
        "outputId": "bf1bf7f1-ec51-4ebb-9c3a-7a86e71b2709"
      },
      "outputs": [
        {
          "output_type": "stream",
          "name": "stdout",
          "text": [
            "Insira o primeiro dia sem cigarro (formato AAAA-MM-DD): 2024-11-18\n",
            "Insira o valor de um maço do seu antigo cigarro: (por exemplo, 10.50 se custar R$10,50) 8.50\n",
            "Insira a quantidade de maços que fumava por dia: 1\n",
            "\n",
            "Você está sem fumar há 68 dias!\n",
            "Dinheiro economizado: R$ 578.0\n",
            "Quantidade de cigarros não fumados: 1360\n",
            "Faltam 297 dias para o primeiro aniversário\n",
            "Faltam 114 dias para comemorar 6 meses!\n"
          ]
        }
      ],
      "source": [
        "import time\n",
        "from datetime import date, datetime\n",
        "\n",
        "\n",
        "hoje = date.today() #date.today pega a data de hoje\n",
        "\n",
        "#valida e formata a data do dia 1 sem cigarro\n",
        "while True:\n",
        "  try:\n",
        "    dia_1 = input(\"Insira o primeiro dia sem cigarro (formato AAAA-MM-DD): \")\n",
        "    dia_1 = datetime.strptime(dia_1, \"%Y-%m-%d\").date() #converte para data\n",
        "    break #acaba o loop se a data for válida\n",
        "  except ValueError:\n",
        "    print(\"Formato inválido. Certifique-se de usar o formato correto\")\n",
        "\n",
        "\n",
        "dias_sem_fumar = (hoje - dia_1).days\n",
        "while True:\n",
        "          try:\n",
        "            valor_maco = float(input(\"Insira o valor de um maço do seu antigo cigarro: (por exemplo, 10.50 se custar R$10,50) \"))\n",
        "            macos_por_dia  = float(input(\"Insira a quantidade de maços que fumava por dia: \"))\n",
        "            break\n",
        "          except ValueError:\n",
        "            print(\"Por favor, insira um valor numérico válido\")\n",
        "\n",
        "economia = dias_sem_fumar * valor_maco #calcula o dinheiro economizado\n",
        "cigarros_nao_fumados = dias_sem_fumar * macos_por_dia * 20\n",
        "meia_contagem = 182 - dias_sem_fumar #contagem regressiva até o 6º mês\n",
        "contagem_ano = 365 - dias_sem_fumar #contagem regressiva até 1 ano\n",
        "\n",
        "print(f\"\\nVocê está sem fumar há {dias_sem_fumar} dias!\")\n",
        "print(f\"Dinheiro economizado: R$ {economia:}\")\n",
        "print(f\"Quantidade de cigarros não fumados: {int(cigarros_nao_fumados)}\")\n",
        "print(f\"Faltam {contagem_ano} dias para o primeiro aniversário\")\n",
        "print(f\"Faltam {meia_contagem} dias para comemorar 6 meses!\")"
      ]
    }
  ]
}